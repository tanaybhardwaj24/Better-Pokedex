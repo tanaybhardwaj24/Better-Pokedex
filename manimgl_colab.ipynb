{
  "nbformat": 4,
  "nbformat_minor": 0,
  "metadata": {
    "colab": {
      "name": "manimgl-colab.ipynb",
      "provenance": [],
      "collapsed_sections": [],
      "toc_visible": true,
      "authorship_tag": "ABX9TyOHzUIIpaEjHWeobyJoZpcC",
      "include_colab_link": true
    },
    "kernelspec": {
      "name": "python3",
      "display_name": "Python 3"
    },
    "language_info": {
      "name": "python"
    },
    "accelerator": "GPU"
  },
  "cells": [
    {
      "cell_type": "markdown",
      "metadata": {
        "id": "view-in-github",
        "colab_type": "text"
      },
      "source": [
        "<a href=\"https://colab.research.google.com/github/tanaybhardwaj24/Better-Pokedex/blob/master/manimgl_colab.ipynb\" target=\"_parent\"><img src=\"https://colab.research.google.com/assets/colab-badge.svg\" alt=\"Open In Colab\"/></a>"
      ]
    },
    {
      "cell_type": "code",
      "metadata": {
        "id": "5JwExKr8M-W_"
      },
      "source": [
        "!sudo apt update\n",
        "!sudo apt install libcairo2-dev ffmpeg texlive texlive-latex-extra texlive-fonts-extra texlive-latex-recommended texlive-science tipa libpango1.0-dev\n",
        "!pip install manim\n",
        "!pip install IPython --upgrade\n",
        "!pip install manimlib\n",
        "\n",
        "from google.colab import drive\n",
        "drive.mount('/content/drive')"
      ],
      "execution_count": 9,
      "outputs": []
    },
    {
      "cell_type": "markdown",
      "metadata": {
        "id": "q1JEO3p_OkGO"
      },
      "source": [
        "REMOVE CELLS BEFORE THIS INCLUDING THIS"
      ]
    },
    {
      "cell_type": "code",
      "metadata": {
        "id": "TrkmgujINY9J"
      },
      "source": [
        "# CREDIT FOR CODE https://github.com/pedrovhb/anims/blob/master/old_anims/bubble_sort.py\n",
        "from manimlib.imports import *\n",
        "import random\n",
        "\n",
        "SCALE = 1.8\n",
        "\n",
        "\n",
        "class Element:\n",
        "    def __init__(self, val):\n",
        "        self.val = val\n",
        "        self.circle = Circle(radius=0.4 * SCALE)\n",
        "        self.text = TextMobject(str(self.val))\n",
        "        self.text.scale(SCALE)\n",
        "\n",
        "\n",
        "def swap_mobjects(c1: Mobject, c2: Mobject):\n",
        "    # Transforms happen from one object to another. If we want to animate\n",
        "    # a clockwise movement, then we have to transform into copies that are\n",
        "    # in another location\n",
        "    c1_copy, c2_copy = deepcopy(c1), deepcopy(c2)\n",
        "    c1_copy.move_to(c2.get_center())\n",
        "    c2_copy.move_to(c1.get_center())\n",
        "    return [\n",
        "        CounterclockwiseTransform(c1, c1_copy),\n",
        "        CounterclockwiseTransform(c2, c2_copy),\n",
        "    ]\n",
        "\n",
        "\n",
        "def swap_elements(e1: Element, e2: Element):\n",
        "    # This returns the animations produced by swapping both text and the circles for the\n",
        "    # given elements.\n",
        "    return [*swap_mobjects(e1.text, e2.text), *swap_mobjects(e1.circle, e2.circle)]\n",
        "\n",
        "\n",
        "class BubbleSort(Scene):\n",
        "    def construct(self):\n",
        "        shuffled_arr = [0, 2, 4, 5, 6, 7, 9]\n",
        "        random.shuffle(shuffled_arr)\n",
        "        els = [Element(n) for n in shuffled_arr]\n",
        "\n",
        "        # Create sliding rectangle\n",
        "        crt_view_rectangle = Rectangle(width=2 * SCALE, height=1 * SCALE)\n",
        "\n",
        "        # Move elements to their starting positions\n",
        "        for i in range(len(shuffled_arr)):\n",
        "            new_pos = [(-3 + i) * SCALE, 0, 0]\n",
        "            els[i].circle.move_to(new_pos)\n",
        "            els[i].text.move_to(new_pos)\n",
        "\n",
        "        # Show the creation of elements\n",
        "        self.play(\n",
        "            *[ShowCreation(el.circle) for el in els], *[Write(el.text) for el in els]\n",
        "        )\n",
        "\n",
        "        # Move the rectangle to its starting position\n",
        "        initial_rect_pos = midpoint(\n",
        "            els[0].circle.get_center(), els[1].circle.get_center()\n",
        "        )\n",
        "        crt_view_rectangle.move_to(initial_rect_pos)\n",
        "\n",
        "        # Show the creation of the rectangle\n",
        "        self.play(ShowCreation(crt_view_rectangle))\n",
        "\n",
        "        # Start sorting\n",
        "        while True:\n",
        "\n",
        "            # For each cycle, swapped flag is initially false\n",
        "            swapped = False\n",
        "\n",
        "            # For each element until the second-to-last one...\n",
        "            for i in range(len(shuffled_arr) - 1):\n",
        "\n",
        "                # If this element's value is larger than the next one...\n",
        "                if els[i].val > els[i + 1].val:\n",
        "                    # Swap them\n",
        "                    els[i], els[i + 1] = els[i + 1], els[i]\n",
        "\n",
        "                    # Set the swapped flag to True\n",
        "                    swapped = True\n",
        "\n",
        "                    # Play the swapping animation\n",
        "                    self.play(*swap_elements(els[i], els[i + 1]))\n",
        "\n",
        "                # Move the rectangle to its next position\n",
        "                if i != len(shuffled_arr) - 2:\n",
        "                    self.play(ApplyMethod(crt_view_rectangle.shift, RIGHT * SCALE))\n",
        "\n",
        "            # At the end of the cycle, move the rectangle back to its starting position\n",
        "            self.play(ApplyMethod(crt_view_rectangle.move_to, initial_rect_pos))\n",
        "\n",
        "            # If the swapped flag hasn't been set to true, we went through the\n",
        "            # array without swapping anything, and that means that it's been sorted\n",
        "            if not swapped:\n",
        "                break\n",
        "\n",
        "        # When we're done, animate a change color to green for all the elements\n",
        "        self.play(*[ApplyMethod(el.circle.set_color, GREEN_C) for el in els])\n",
        "\n",
        "        self.wait(3)"
      ],
      "execution_count": 9,
      "outputs": []
    },
    {
      "cell_type": "code",
      "metadata": {
        "id": "2ws3EYBdNitS"
      },
      "source": [
        "!jupyter nbconvert --to python 'drive/MyDrive/Colab Notebooks/manimgl-colab.ipynb'"
      ],
      "execution_count": 9,
      "outputs": []
    },
    {
      "cell_type": "code",
      "metadata": {
        "id": "AbAxJH9XNj9X"
      },
      "source": [
        "!manim -pql 'drive/MyDrive/Colab Notebooks/manimgl-colab.py' -r 2160 --video_output_dir 'drive/MyDrive/Manim-Videos'"
      ],
      "execution_count": 11,
      "outputs": []
    },
    {
      "cell_type": "code",
      "metadata": {
        "id": "2vSpDzU9RR5C"
      },
      "source": [
        ""
      ],
      "execution_count": null,
      "outputs": []
    },
    {
      "cell_type": "code",
      "metadata": {
        "id": "JBk6g_GkW_3u"
      },
      "source": [
        ""
      ],
      "execution_count": null,
      "outputs": []
    }
  ]
}